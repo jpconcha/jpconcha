{
 "cells": [
  {
   "cell_type": "markdown",
   "id": "b571bfe8",
   "metadata": {},
   "source": [
    "# Ecuaciones Diferenciales \n",
    "\n",
    "Una ecuación diferencial no es más que una ecuación donde la incognita es una función, y en la función se involucran las derivadas. "
   ]
  },
  {
   "cell_type": "code",
   "execution_count": 3,
   "id": "5485b05c",
   "metadata": {},
   "outputs": [
    {
     "data": {
      "text/latex": [
       "$\\displaystyle y{\\left(x \\right)} = C_{1} e^{x}$"
      ],
      "text/plain": [
       "Eq(y(x), C1*exp(x))"
      ]
     },
     "execution_count": 3,
     "metadata": {},
     "output_type": "execute_result"
    }
   ],
   "source": [
    "import sympy as sym\n",
    "x=sym.Symbol('x')\n",
    "y=sym.Function('y')\n",
    "ec1=sym.Eq(y(x)-y(x).diff(x),0)\n",
    "sym.dsolve(ec1)"
   ]
  },
  {
   "cell_type": "code",
   "execution_count": 5,
   "id": "233f1834",
   "metadata": {},
   "outputs": [
    {
     "data": {
      "text/latex": [
       "$\\displaystyle y{\\left(x \\right)} - \\frac{d}{d x} y{\\left(x \\right)} = 0$"
      ],
      "text/plain": [
       "Eq(y(x) - Derivative(y(x), x), 0)"
      ]
     },
     "execution_count": 5,
     "metadata": {},
     "output_type": "execute_result"
    }
   ],
   "source": [
    "ec1"
   ]
  },
  {
   "cell_type": "code",
   "execution_count": null,
   "id": "ee039b08",
   "metadata": {},
   "outputs": [],
   "source": []
  },
  {
   "cell_type": "code",
   "execution_count": null,
   "id": "e2177195",
   "metadata": {},
   "outputs": [],
   "source": []
  }
 ],
 "metadata": {
  "kernelspec": {
   "display_name": "Python 3 (ipykernel)",
   "language": "python",
   "name": "python3"
  },
  "language_info": {
   "codemirror_mode": {
    "name": "ipython",
    "version": 3
   },
   "file_extension": ".py",
   "mimetype": "text/x-python",
   "name": "python",
   "nbconvert_exporter": "python",
   "pygments_lexer": "ipython3",
   "version": "3.10.1"
  }
 },
 "nbformat": 4,
 "nbformat_minor": 5
}
