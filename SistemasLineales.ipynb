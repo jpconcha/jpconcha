{
 "cells": [
  {
   "cell_type": "markdown",
   "id": "f9d8f860",
   "metadata": {},
   "source": [
    "# Resolución Numérica de Sistemas de Ecuaciones Lineales\n",
    "\n",
    "\n",
    "En esta unidad se examinarán métodos directos para resolver el sistema lineal\n",
    "\n",
    "$$\n",
    "                   \\begin{array}{cccccccccc}\n",
    "                   E_1:&  a_{11}x_{1} &+& a_{12}x_{2}& + &\\cdots&  + &a_{1n}x_{n}& =& b_1 \\\\ \n",
    "                   E_2:&  a_{21}x_{1}& + &a_{22}x_{2}& + &\\cdots & +& a_{2n}x_{n}& = &b_2 \\\\\n",
    "                   \\vdots   & \\vdots      &   &  \\vdots         &    & &   &   \\vdots        &    &  \\vdots     \\\\\n",
    "                   E_n:&  a_{n1}x_{1} &+& a_{n2}x_{2}& + &\\cdots & +& a_{nn}x_{n}& = &b_n\n",
    "                      \\end{array}\n",
    "$$\n",
    "\n",
    "Donde $x=(x_1,x_2,\\ldots,x_n)^t$, dado $A=(a_{ij})$ con $i,j=1,2,\\ldots,n$ y $b=(b_i)$ para $i=1,2,\\ldots,n$.\n",
    "\n",
    "Estas técnicas directas son métodos que proporcionan una respuesta en un número fijo de pasos y solo están sujetos a los errores de redondeo.\n",
    "\n",
    "Supondremos que $\\det(A)\\neq 0$, es decir, el sistema tiene solución única.\n",
    "\n",
    "Utilizaremos operaciones elemntales para simplificar el sistema lineal anterior, estas son:\n",
    "\n",
    "\n",
    "   * La ecuación $E_i$ puede multiplicarse por una constante $\\lambda$ distinta de cero y la ecuación resultante se emplea en vez de $E_i$. Esta operación se denota por $(\\lambda E_i)\\rightarrow(E_i)$.\n",
    "   * La ecuación $E_j$ puede multiplicarse por cualquier constante $\\lambda$ y sumarse a la ecuación $E_i$, la ecuación resultante se emplea en vez de $E_i$. Esta operación se denota por $(E_i+\\lambda E_j)\\rightarrow(E_i)$.\n",
    "   * El orden de las ecuaciones $E_i$ y $E_j$ puede intercambiarse. Esta operación se denota por $(E_i)\\leftrightarrow(E_j)$.\n",
    "\n",
    "Con estas operaciones, podemos transformar un sistema lineal en otro equivalente (mismas soluciones), que puede resolverse fácilmente. \n",
    "\n",
    "Ejemplo: \n",
    "\n",
    "Consideremos el siguiente sistema de ecuaciones, \n",
    "\n",
    "$$\\begin{array}{rcl}\n",
    "   2x+3y+2z & = &7 \\\\\n",
    "   x+2y     & = &3\\\\\n",
    "   x+y-3z   & = &-1\n",
    "   \\end{array}\n",
    "$$\n",
    "\n",
    "* En python escriba la matriz ampliada [A,b] del sistema anterior. \n",
    "* Realice las siguiente operación elemental $(E_3 + (-2)*E_2)\\rightarrow (E_3)$."
   ]
  },
  {
   "cell_type": "markdown",
   "id": "c2aa5d6c",
   "metadata": {},
   "source": [
    "Desarrollo: \n",
    "\n",
    "Para poder usar ciertas funciones de python, como la transpuesta de una matriz o el determinante de esta, debemos importar una libreria llamada numpy, a esta librería le llamaremos np. "
   ]
  },
  {
   "cell_type": "code",
   "execution_count": 1,
   "id": "51950856",
   "metadata": {},
   "outputs": [
    {
     "name": "stdout",
     "output_type": "stream",
     "text": [
      "[[ 2  3  2]\n",
      " [ 1  2  0]\n",
      " [ 1  1 -3]]\n",
      "-----------\n",
      "[[ 7]\n",
      " [ 3]\n",
      " [-1]]\n"
     ]
    }
   ],
   "source": [
    "import numpy as np \n",
    "A=np.array([[2,3,2],[1,2,0,],[1,1,-3]])\n",
    "b=np.array([[7],[3],[-1]])\n",
    "print(A)\n",
    "print('-----------')\n",
    "print(b)"
   ]
  },
  {
   "cell_type": "markdown",
   "id": "7e80dcd7",
   "metadata": {},
   "source": [
    "Para calcular el determinante de una matriz A numpy proporciona una gama de funciones asociadas al álgebra lineal en este caso en particular la función se llama linalg.det() y si queremos escribir la matriz ampliada [A|b] numpy también tiene implemantada una función que permite concatenar matrices.    "
   ]
  },
  {
   "cell_type": "code",
   "execution_count": 2,
   "id": "1252a960",
   "metadata": {
    "scrolled": false
   },
   "outputs": [
    {
     "name": "stdout",
     "output_type": "stream",
     "text": [
      "El determinante es -4.999999999999999\n",
      "La matriz ampliada es:\n",
      "  [[ 2  3  2  7]\n",
      " [ 1  2  0  3]\n",
      " [ 1  1 -3 -1]]\n"
     ]
    }
   ],
   "source": [
    "d=np.linalg.det(A)\n",
    "print('El determinante es', d)\n",
    "Aampl=np.concatenate((A,b),axis=1)\n",
    "print('La matriz ampliada es:\\n ', Aampl)"
   ]
  },
  {
   "cell_type": "markdown",
   "id": "6a288c55",
   "metadata": {},
   "source": [
    "Para invocar la primera fila de  la matriz ampliada, lo hacemos de la sigiuente manera: "
   ]
  },
  {
   "cell_type": "code",
   "execution_count": 3,
   "id": "e8568b9f",
   "metadata": {},
   "outputs": [
    {
     "name": "stdout",
     "output_type": "stream",
     "text": [
      "[2 3 2 7]\n"
     ]
    }
   ],
   "source": [
    "s=Aampl[0,:]\n",
    "print(s)"
   ]
  },
  {
   "cell_type": "markdown",
   "id": "7c2a8b9a",
   "metadata": {},
   "source": [
    "Para realizar la transformación elemental $(E_1 + E_2)\\rightarrow (E_2)$, lo podemos hacer así: "
   ]
  },
  {
   "cell_type": "code",
   "execution_count": 4,
   "id": "5e52e70c",
   "metadata": {},
   "outputs": [
    {
     "name": "stdout",
     "output_type": "stream",
     "text": [
      "[[ 2  3  2  7]\n",
      " [ 0 -1  2  1]\n",
      " [ 1  1 -3 -1]]\n"
     ]
    }
   ],
   "source": [
    "Aampl[1,:]=Aampl[0,:]+(-2)*Aampl[1,:]\n",
    "print(Aampl)"
   ]
  },
  {
   "cell_type": "code",
   "execution_count": null,
   "id": "e87245e8",
   "metadata": {},
   "outputs": [],
   "source": []
  }
 ],
 "metadata": {
  "kernelspec": {
   "display_name": "Python 3 (ipykernel)",
   "language": "python",
   "name": "python3"
  },
  "language_info": {
   "codemirror_mode": {
    "name": "ipython",
    "version": 3
   },
   "file_extension": ".py",
   "mimetype": "text/x-python",
   "name": "python",
   "nbconvert_exporter": "python",
   "pygments_lexer": "ipython3",
   "version": "3.10.1"
  }
 },
 "nbformat": 4,
 "nbformat_minor": 5
}
